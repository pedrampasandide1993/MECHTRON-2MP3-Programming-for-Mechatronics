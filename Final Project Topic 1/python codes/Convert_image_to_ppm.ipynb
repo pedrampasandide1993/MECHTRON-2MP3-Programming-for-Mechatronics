{
  "cells": [
    {
      "cell_type": "code",
      "execution_count": 6,
      "metadata": {},
      "outputs": [
        {
          "name": "stdout",
          "output_type": "stream",
          "text": [
            "Image converted and saved as CAP_5810_UniversityHall_spring_jpg-1024x683.ppm\n"
          ]
        }
      ],
      "source": [
        "from PIL import Image\n",
        "\n",
        "def convert_png_to_ppm(png_file):\n",
        "    try:\n",
        "        # Open the PNG image\n",
        "        with Image.open(png_file) as img:\n",
        "            # Convert the image to RGB mode (if it's not already in RGB)\n",
        "            img = img.convert('RGB')\n",
        "\n",
        "            # Save the image in PPM format\n",
        "            ppm_file = png_file.replace('.jpg', '.ppm')\n",
        "            img.save(ppm_file, format='PPM')\n",
        "            print(f\"Image converted and saved as {ppm_file}\")\n",
        "    except Exception as e:\n",
        "        print(f\"An error occurred: {e}\")\n",
        "\n",
        "# Replace 'input_image.png' with the path to your PNG image file\n",
        "png_image_path = 'CAP_5810_UniversityHall_spring_jpg-1024x683.jpg'\n",
        "\n",
        "convert_png_to_ppm(png_image_path)\n"
      ]
    }
  ],
  "metadata": {
    "colab": {
      "provenance": [],
      "toc_visible": true
    },
    "kernelspec": {
      "display_name": "ann",
      "language": "python",
      "name": "ann"
    },
    "language_info": {
      "codemirror_mode": {
        "name": "ipython",
        "version": 3
      },
      "file_extension": ".py",
      "mimetype": "text/x-python",
      "name": "python",
      "nbconvert_exporter": "python",
      "pygments_lexer": "ipython3",
      "version": "3.10.12"
    }
  },
  "nbformat": 4,
  "nbformat_minor": 0
}
