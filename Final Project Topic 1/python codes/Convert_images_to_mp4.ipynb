{
  "cells": [
    {
      "cell_type": "code",
      "execution_count": 15,
      "metadata": {},
      "outputs": [],
      "source": [
        "import cv2 # pip install opencv-python\n",
        "import glob\n",
        "\n",
        "# Get all filenames matching the pattern pedram_*.ppm and sort them based on the integer part\n",
        "image_files = sorted(glob.glob('pedram_*.ppm'), key=lambda x: int(x.split('_')[1].split('.')[0]))\n",
        "\n",
        "fps = 2.0\n",
        "# Define the codec and create VideoWriter object\n",
        "fourcc = cv2.VideoWriter_fourcc(*'mp4v')  # change the format based on what you need\n",
        "out = cv2.VideoWriter('output_video.mp4', fourcc, fps, (302, 167))  # Adjust resolution and fps as needed\n",
        "\n",
        "for filename in image_files:\n",
        "    img = cv2.imread(filename)\n",
        "    \n",
        "    # Extract number from filename\n",
        "    number = int(filename.split('_')[1].split('.')[0])\n",
        "    \n",
        "    # Add the extracted number as text to the left-bottom corner with smaller font\n",
        "    text = f\"Generation: {number}\"\n",
        "    org = (10, img.shape[0] - 10)  # Position the text at left-bottom corner\n",
        "    font = cv2.FONT_HERSHEY_SIMPLEX\n",
        "    font_scale = 0.4  # Decrease font scale for smaller text\n",
        "    color = (0, 0, 0)  # Text color in BGR format\n",
        "    thickness = 1\n",
        "    cv2.putText(img, text, org, font, font_scale, color, thickness, cv2.LINE_AA)\n",
        "    \n",
        "    # Write the modified image to the video\n",
        "    out.write(img)\n",
        "\n",
        "# Duplicate the last frame to extend its display time (stay for 2 seconds)\n",
        "if image_files:\n",
        "    last_img = cv2.imread(image_files[-1])\n",
        "    for _ in range(0, int(4 * fps)):  # Adjust the factor based on video frame rate\n",
        "        text = \"Final Result\"\n",
        "        org = (10, last_img.shape[0] - 10)  # Position the text near the bottom-left corner\n",
        "        cv2.putText(last_img, text, org, font, font_scale, color, thickness, cv2.LINE_AA)\n",
        "        out.write(last_img)\n",
        "\n",
        "\n",
        "# Release VideoWriter and close all OpenCV windows\n",
        "out.release()\n",
        "cv2.destroyAllWindows()\n"
      ]
    }
  ],
  "metadata": {
    "colab": {
      "provenance": [],
      "toc_visible": true
    },
    "kernelspec": {
      "display_name": "ann",
      "language": "python",
      "name": "ann"
    },
    "language_info": {
      "codemirror_mode": {
        "name": "ipython",
        "version": 3
      },
      "file_extension": ".py",
      "mimetype": "text/x-python",
      "name": "python",
      "nbconvert_exporter": "python",
      "pygments_lexer": "ipython3",
      "version": "3.10.12"
    }
  },
  "nbformat": 4,
  "nbformat_minor": 0
}
