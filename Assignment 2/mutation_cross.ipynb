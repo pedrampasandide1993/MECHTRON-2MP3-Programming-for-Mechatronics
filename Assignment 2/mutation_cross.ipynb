{
  "nbformat": 4,
  "nbformat_minor": 0,
  "metadata": {
    "colab": {
      "provenance": [],
      "toc_visible": true
    },
    "kernelspec": {
      "name": "python3",
      "display_name": "Python 3"
    },
    "language_info": {
      "name": "python"
    }
  },
  "cells": [
    {
      "cell_type": "markdown",
      "source": [
        "# An example of one time (one iteration) crossover and mutation on population used in Genetic Algorithm"
      ],
      "metadata": {
        "id": "CzEVVyDrQG-f"
      }
    },
    {
      "cell_type": "code",
      "execution_count": 28,
      "metadata": {
        "colab": {
          "base_uri": "https://localhost:8080/"
        },
        "id": "GvU6It-qFhGx",
        "outputId": "f2811e8d-5b77-4a66-bfb0-16f64e3e3600"
      },
      "outputs": [
        {
          "output_type": "stream",
          "name": "stdout",
          "text": [
            "Population:\n",
            " [[ 2.29463618 -1.2461085 ]\n",
            " [-0.24739641  1.78155216]\n",
            " [ 1.99307439  4.40131682]\n",
            " [-0.79778746  2.82777041]\n",
            " [ 4.6496967   3.33868319]\n",
            " [-4.32155109 -0.55518814]\n",
            " [ 1.58053494  3.83618539]\n",
            " [ 1.98283975  3.10711972]\n",
            " [-3.64825719  1.27095742]\n",
            " [ 1.86410832 -4.32261067]]\n",
            "\n",
            "Assume these are the values computed by objective function for each individual:\n",
            " [[7.91149628]\n",
            " [0.00823317]\n",
            " [7.66235049]\n",
            " [4.75095812]\n",
            " [1.21649746]\n",
            " [3.87425949]\n",
            " [5.29286533]\n",
            " [3.1937971 ]\n",
            " [5.15631021]\n",
            " [2.29502434]]\n"
          ]
        }
      ],
      "source": [
        "import numpy as np\n",
        "\n",
        "pop_size = 10\n",
        "mutation_rate = 0.3\n",
        "crossover_rate = 0.7\n",
        "num_variables = 2\n",
        "lower_bound = -5\n",
        "upper_bound = +5\n",
        "\n",
        "population = np.random.uniform(low=lower_bound, high=upper_bound, size=(pop_size, num_variables))\n",
        "\n",
        "# fitness value for each individual (or chromosome OR a set of decision variables) must be computed by the objective funtion\n",
        "# but here to just simpilify we assign a random number for each individual\n",
        "fitness = np.random.uniform(low=0, high=10, size=(pop_size, 1))\n",
        "\n",
        "print(\"Population:\\n\",population)\n",
        "print(\"\\nAssume these are the values computed by objective function for each individual:\\n\",fitness)\n"
      ]
    },
    {
      "cell_type": "markdown",
      "source": [
        "We want to minimize the objective function. So the more fitness values is, the less possibility it has to be the solution. That's why I do inverse of fitness. Deviding by `+1e-6` is to make sure we won't have division by zero."
      ],
      "metadata": {
        "id": "k-7qplMrQdsA"
      }
    },
    {
      "cell_type": "code",
      "source": [
        "fitness_probs = 1 / (fitness + 1e-6)  # Adding a small constant to avoid division by zero\n",
        "\n",
        "# Normalize the probabilities\n",
        "fitness_probs /= fitness_probs.sum()\n",
        "\n",
        "print(\"The probility of individuals:\\n\",fitness_probs)"
      ],
      "metadata": {
        "colab": {
          "base_uri": "https://localhost:8080/"
        },
        "id": "juYSkhxVPYrD",
        "outputId": "81d91864-ac3d-4b9f-88a1-36daae6f2465"
      },
      "execution_count": 29,
      "outputs": [
        {
          "output_type": "stream",
          "name": "stdout",
          "text": [
            "The probility of individuals:\n",
            " [[0.00101832]\n",
            " [0.97841489]\n",
            " [0.00105143]\n",
            " [0.00169575]\n",
            " [0.00662264]\n",
            " [0.00207948]\n",
            " [0.00152213]\n",
            " [0.00252253]\n",
            " [0.00156244]\n",
            " [0.00351039]]\n"
          ]
        }
      ]
    },
    {
      "cell_type": "markdown",
      "source": [
        "I use `np.random.choice` function to pick the stronger individuals (the ones with higher probability are more likely to survive, althogh, there is a slight chance that individuals with less probability are going to survive too)."
      ],
      "metadata": {
        "id": "piiklDtTRBas"
      }
    },
    {
      "cell_type": "code",
      "source": [
        "# Select parents to crossover based on their probabilities\n",
        "selected_indices = np.random.choice(pop_size, size=pop_size, p=fitness_probs[:, 0])\n",
        "\n",
        "# Create the new population with selected parents\n",
        "new_population = population[selected_indices, :]\n",
        "\n",
        "print(\"The index of individuals (chromosomes) that survived:\\n\",selected_indices)"
      ],
      "metadata": {
        "colab": {
          "base_uri": "https://localhost:8080/"
        },
        "id": "L0tD30EvF6Wz",
        "outputId": "9f97f1e8-2d60-44fd-ac77-5f8ff05056e0"
      },
      "execution_count": 30,
      "outputs": [
        {
          "output_type": "stream",
          "name": "stdout",
          "text": [
            "The index of individuals (chromosomes) that survived:\n",
            " [1 1 1 0 1 1 1 1 1 1]\n"
          ]
        }
      ]
    },
    {
      "cell_type": "markdown",
      "source": [
        "**IMPORTANT:** Every time you run this part a new set of indexes will be picked. But the ones you see more frequently are those which have higher probability in `fitness_probs`. Then I created `new_population` based on `selected_indices` holding the individuals with higher probability to be the best solution. And these survived individuals are going to make children and mutate to make the next generation!"
      ],
      "metadata": {
        "id": "f5J70F6jRvkQ"
      }
    },
    {
      "cell_type": "code",
      "source": [
        "print(\"New population:\\n\",new_population)"
      ],
      "metadata": {
        "colab": {
          "base_uri": "https://localhost:8080/"
        },
        "id": "wB6bBHBJrhFs",
        "outputId": "82e520e5-c8b4-4533-ab8a-4c21adcb3332"
      },
      "execution_count": 31,
      "outputs": [
        {
          "output_type": "stream",
          "name": "stdout",
          "text": [
            "New population:\n",
            " [[-0.24739641  1.78155216]\n",
            " [-0.24739641  1.78155216]\n",
            " [-0.24739641  1.78155216]\n",
            " [ 2.29463618 -1.2461085 ]\n",
            " [-0.24739641  1.78155216]\n",
            " [-0.24739641  1.78155216]\n",
            " [-0.24739641  1.78155216]\n",
            " [-0.24739641  1.78155216]\n",
            " [-0.24739641  1.78155216]\n",
            " [-0.24739641  1.78155216]]\n"
          ]
        }
      ]
    },
    {
      "cell_type": "markdown",
      "source": [
        "Here, every two parents in `new_population` will make two new kids! carrying the same gens that their parents had. Mind you that there is a `crossover_rate` percent chance that two parents would be able to mate. Others will remain untouched. They stay single or you can say they don't want to be in a serious relationship!"
      ],
      "metadata": {
        "id": "0ShngHfmStUT"
      }
    },
    {
      "cell_type": "code",
      "source": [
        "# Perform crossover\n",
        "for i in range(0, pop_size, 2):\n",
        "    if np.random.rand() < crossover_rate:\n",
        "        parent1 = new_population[i]\n",
        "        parent2 = new_population[i + 1]\n",
        "\n",
        "        # Pick a random crossover point\n",
        "        crosspoint = np.random.randint(1, num_variables)\n",
        "\n",
        "        # Create two new children\n",
        "        child1 = np.concatenate((parent1[:crosspoint], parent2[crosspoint:]))\n",
        "        child2 = np.concatenate((parent2[:crosspoint], parent1[crosspoint:]))\n",
        "\n",
        "        # Replace the parents with the new children\n",
        "        new_population[i] = child1\n",
        "        new_population[i + 1] = child2\n"
      ],
      "metadata": {
        "id": "sNlDFF-DG6vE"
      },
      "execution_count": 32,
      "outputs": []
    },
    {
      "cell_type": "markdown",
      "source": [
        "Now the new population is like:"
      ],
      "metadata": {
        "id": "Avg-Khw4T5qf"
      }
    },
    {
      "cell_type": "code",
      "source": [
        "new_population"
      ],
      "metadata": {
        "colab": {
          "base_uri": "https://localhost:8080/"
        },
        "id": "qFeD6Zh4Icyi",
        "outputId": "475eef38-43f5-4b13-bf84-2de993b2072c"
      },
      "execution_count": 33,
      "outputs": [
        {
          "output_type": "execute_result",
          "data": {
            "text/plain": [
              "array([[-0.24739641,  1.78155216],\n",
              "       [-0.24739641,  1.78155216],\n",
              "       [-0.24739641, -1.2461085 ],\n",
              "       [ 2.29463618,  1.78155216],\n",
              "       [-0.24739641,  1.78155216],\n",
              "       [-0.24739641,  1.78155216],\n",
              "       [-0.24739641,  1.78155216],\n",
              "       [-0.24739641,  1.78155216],\n",
              "       [-0.24739641,  1.78155216],\n",
              "       [-0.24739641,  1.78155216]])"
            ]
          },
          "metadata": {},
          "execution_count": 33
        }
      ]
    },
    {
      "cell_type": "markdown",
      "source": [
        "The survived ones will have the chance to also mutate. Here is the story. Some say that Tyrannosaurus rex especies extincted because they had short hands and couldn't grab the food on the ground! \"Some\" also say Segnosaurus survived because there was enough food for them but they mutated to develop longer hands and eventually during millions of years (iterations in GA) they turned into monekys. This is not a real story I just made it up!\n",
        "\n",
        "Anyway, the total number of individuals (or chromosomes) are equal to `pop_size`. The total number of gens in each population holding are chromosomes are `pop_size * num_variables`. And randomly `mutation_rate` percent of them will mutate."
      ],
      "metadata": {
        "id": "1VaVutR2UBO7"
      }
    },
    {
      "cell_type": "code",
      "source": [
        "# Calculate the total number of genes\n",
        "total_gen = pop_size * num_variables\n",
        "\n",
        "# Calculate the number of genes to mutate\n",
        "total_gen_mutate = int(total_gen * mutation_rate)\n",
        "\n",
        "# Generate random indices for genes to mutate\n",
        "genes_to_mutate_indices = np.random.choice(total_gen, size=total_gen_mutate, replace=False)\n",
        "\n",
        "print(\"Total numebr of gens: \\n\",total_gen);\n",
        "print(\"\\nTotal number of gens that will randomly mutate: \\n\",total_gen_mutate);\n",
        "print(\"\\nThe indexes of gens that will be mutate (numbers between zero to total_gen): \\n\",genes_to_mutate_indices);\n"
      ],
      "metadata": {
        "colab": {
          "base_uri": "https://localhost:8080/"
        },
        "id": "syDAbvahG-Yc",
        "outputId": "cdf6d0ba-3f9d-4a86-c38b-5d27f36339b4"
      },
      "execution_count": 34,
      "outputs": [
        {
          "output_type": "stream",
          "name": "stdout",
          "text": [
            "Total numebr of gens: \n",
            " 20\n",
            "\n",
            "Total number of gens that will randomly mutate: \n",
            " 6\n",
            "\n",
            "The indexes of gens that will be mutate (numbers between zero to total_gen): \n",
            " [ 1 17 14 13 15  6]\n"
          ]
        }
      ]
    },
    {
      "cell_type": "markdown",
      "source": [
        "Here the gens that will mutate are replaced with a random number between lower_bound and upper_bound. These are the bounds for the decision variables (gens)."
      ],
      "metadata": {
        "id": "vRE4uGE0ZOWX"
      }
    },
    {
      "cell_type": "code",
      "source": [
        "# Mutate the selected genes\n",
        "for index in genes_to_mutate_indices:\n",
        "    row = index // num_variables\n",
        "    col = index % num_variables\n",
        "    print(row, col)\n",
        "    new_population[row, col] = np.random.uniform(low=lower_bound, high=upper_bound)"
      ],
      "metadata": {
        "colab": {
          "base_uri": "https://localhost:8080/"
        },
        "id": "vLvNwaAKkt66",
        "outputId": "b87c25fb-2b52-47bf-f0c0-096ff551ef7e"
      },
      "execution_count": 35,
      "outputs": [
        {
          "output_type": "stream",
          "name": "stdout",
          "text": [
            "0 1\n",
            "8 1\n",
            "7 0\n",
            "6 1\n",
            "7 1\n",
            "3 0\n"
          ]
        }
      ]
    },
    {
      "cell_type": "markdown",
      "source": [
        "Now this a new update generation. I recompute the fitness with objective function and the probability of each indiviudal for this new population. I will keep do this until I get enough accuracy."
      ],
      "metadata": {
        "id": "QXP81jfQZo9g"
      }
    },
    {
      "cell_type": "code",
      "source": [
        "new_population"
      ],
      "metadata": {
        "colab": {
          "base_uri": "https://localhost:8080/"
        },
        "id": "OH5McQl2k7GH",
        "outputId": "24372d48-c2ec-44d1-964a-1fdd11c6d9f4"
      },
      "execution_count": 36,
      "outputs": [
        {
          "output_type": "execute_result",
          "data": {
            "text/plain": [
              "array([[-0.24739641, -3.92252144],\n",
              "       [-0.24739641,  1.78155216],\n",
              "       [-0.24739641, -1.2461085 ],\n",
              "       [ 0.90219427,  1.78155216],\n",
              "       [-0.24739641,  1.78155216],\n",
              "       [-0.24739641,  1.78155216],\n",
              "       [-0.24739641,  1.48641848],\n",
              "       [-0.11100862, -1.89420375],\n",
              "       [-0.24739641,  1.07954625],\n",
              "       [-0.24739641,  1.78155216]])"
            ]
          },
          "metadata": {},
          "execution_count": 36
        }
      ]
    },
    {
      "cell_type": "markdown",
      "source": [
        "If you wanna see another numerical example you can read:\n",
        "https://arxiv.org/pdf/1308.4675.pdf"
      ],
      "metadata": {
        "id": "k24_N_XjaEPF"
      }
    }
  ]
}