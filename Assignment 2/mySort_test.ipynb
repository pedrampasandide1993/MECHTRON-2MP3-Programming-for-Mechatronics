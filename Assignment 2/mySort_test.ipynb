{
  "cells": [
    {
      "cell_type": "code",
      "execution_count": 1,
      "metadata": {
        "colab": {
          "base_uri": "https://localhost:8080/",
          "height": 53
        },
        "id": "Cm0Psc_OnRiR",
        "outputId": "8d735f5d-84eb-4900-ef8c-5f153e7a0ce2"
      },
      "outputs": [
        {
          "name": "stdout",
          "output_type": "stream",
          "text": [
            "Drive already mounted at /content/drive; to attempt to forcibly remount, call drive.mount(\"/content/drive\", force_remount=True).\n"
          ]
        },
        {
          "data": {
            "application/vnd.google.colaboratory.intrinsic+json": {
              "type": "string"
            },
            "text/plain": [
              "'\\nThis will prompt you to authenticate and allow access to your Google Drive.\\n'"
            ]
          },
          "execution_count": 1,
          "metadata": {},
          "output_type": "execute_result"
        }
      ],
      "source": [
        "\"\"\"\n",
        "If you are using Python on your OS, you don't need to mount your Google Drive.\n",
        "You can mount your Google Drive to access files stored there. In Colab, run the\n",
        "following code:\n",
        "\"\"\"\n",
        "from google.colab import drive\n",
        "drive.mount('/content/drive')\n",
        "\"\"\"\n",
        "This will prompt you to authenticate and allow access to your Google Drive.\n",
        "\"\"\""
      ]
    },
    {
      "cell_type": "code",
      "execution_count": 2,
      "metadata": {
        "id": "A0vDPQxHkwg9"
      },
      "outputs": [],
      "source": [
        "\"\"\"\n",
        "We use `time` to meausre the time taken by each function.\n",
        "\"\"\"\n",
        "import time\n",
        "\n",
        "\"\"\"\n",
        "You can use Python's `ctypes` library to interface with the C shared library.\n",
        "This allows you to call functions from the shared library in Python.\n",
        "\n",
        "After compiling your C source code and creating `libmysort.so` shared lib with:\n",
        "`gcc -fPIC -shared -o libmysort.so mysort.c`,\n",
        "We will be able to load the shared library named `libmysort.so` in Python using\n",
        "`ctypes.CDLL` function.\n",
        "\n",
        "Ensure the shared library is in the same directory as the Python script or in a\n",
        "location where it can be found by the loader.\n",
        "\"\"\"\n",
        "import ctypes\n",
        "\n",
        "\"\"\"\n",
        "We use `numpy` library to create a manipulate multidimensional arrays.\n",
        "\"\"\"\n",
        "import numpy as np\n",
        "\n",
        "\"\"\"\n",
        "You can share the memory between Python and C directly using the ndpointer class\n",
        "from the numpy.ctypeslib module. This avoids copying the data and instead passes\n",
        "a pointer to the NumPy array’s underlying memory buffer. We will use `ndpointer`\n",
        "to specify the data type of inputs to the functions.\n",
        "\"\"\"\n",
        "from numpy.ctypeslib import ndpointer"
      ]
    },
    {
      "cell_type": "code",
      "execution_count": 35,
      "metadata": {
        "id": "d78YdcPVx7rh"
      },
      "outputs": [],
      "source": [
        "\"\"\"Path to the shared library on Google Drive. Mine is in this directory, you can\n",
        "change it based on your needs. If you are using your own OS, not colab, just use\n",
        "'./libmysort.so' if it is in the corrent directory.\n",
        "\"\"\"\n",
        "lib_path = '/content/drive/MyDrive/libmysort.so'\n",
        "\n",
        "# Load the shared library\n",
        "mySortLib = ctypes.CDLL(lib_path)\n",
        "\n",
        "# Define input argument types without conversion using ndpointer\n",
        "mySortLib.bubbleSort.argtypes = [ndpointer(ctypes.c_int, flags=\"C_CONTIGUOUS\"), ctypes.c_int]\n",
        "mySortLib.bubbleSort.restype = None\n",
        "\n",
        "\"\"\"\n",
        "CODE: do the same for insertion sort, merge sort, heap sort, and counting sort.\n",
        "\"\"\""
      ]
    },
    {
      "cell_type": "code",
      "execution_count": 6,
      "metadata": {
        "colab": {
          "base_uri": "https://localhost:8080/"
        },
        "id": "C1_7sZXfk4l-",
        "outputId": "e343ffe5-e2e6-4067-9a16-e59a7fddd32e"
      },
      "outputs": [
        {
          "name": "stdout",
          "output_type": "stream",
          "text": [
            "Original array: [  64 -134   -5    0   25   12   22   11   90]\n",
            "Sorted array using Bubble Sort: [-134   -5    0   11   12   22   25   64   90]\n"
          ]
        }
      ],
      "source": [
        "# Running a simple test\n",
        "arr0 = np.array([64, -134, -5, 0, 25, 12, 22, 11, 90], dtype=np.int32)\n",
        "n = len(arr0)\n",
        "print(\"Original array:\", arr0)\n",
        "\n",
        "# mySortLib.mergeSort(arr0, 0, n-1)\n",
        "mySortLib.countingSort(arr0, n)\n",
        "print(\"Sorted array using Bubble Sort:\", arr0)"
      ]
    },
    {
      "cell_type": "code",
      "execution_count": 24,
      "metadata": {
        "colab": {
          "base_uri": "https://localhost:8080/"
        },
        "id": "WsqIeZURtUP5",
        "outputId": "9b4695f7-93ea-478d-9176-0e0439096e30"
      },
      "outputs": [
        {
          "name": "stdout",
          "output_type": "stream",
          "text": [
            "Original array: [ 184636  498769  258844 ... -452849 -515880  500210]\n"
          ]
        }
      ],
      "source": [
        "# Creating a large test case\n",
        "arr = np.random.choice(np.arange(-1000000, 1000000, dtype=np.int32), size=500000, replace=False)\n",
        "n = len(arr)\n",
        "print(\"Original array:\", arr)"
      ]
    },
    {
      "cell_type": "code",
      "execution_count": 25,
      "metadata": {
        "colab": {
          "base_uri": "https://localhost:8080/"
        },
        "id": "pPrsFng0yzNO",
        "outputId": "d595019f-bd45-459e-e2f5-2719bbaa8e06"
      },
      "outputs": [
        {
          "name": "stdout",
          "output_type": "stream",
          "text": [
            "Sorted array using Bubble Sort: [-1000000  -999998  -999991 ...   999990   999996   999999]\n",
            "Time to convert: 645.1431684494019 seconds\n"
          ]
        }
      ],
      "source": [
        "arr_copy = np.copy(arr)\n",
        "start = time.time()\n",
        "mySortLib.bubbleSort(arr_copy, n)\n",
        "end = time.time()\n",
        "print(\"Sorted array using Bubble Sort:\", arr_copy)\n",
        "print(f\"Time to convert: {end - start} seconds\")"
      ]
    },
    {
      "cell_type": "code",
      "execution_count": 34,
      "metadata": {
        "colab": {
          "base_uri": "https://localhost:8080/",
          "height": 35
        },
        "id": "G9DN9z-6HR_I",
        "outputId": "814f06f1-0c1b-47ce-a76b-913c4fd58bec"
      },
      "outputs": [
        {
          "data": {
            "application/vnd.google.colaboratory.intrinsic+json": {
              "type": "string"
            },
            "text/plain": [
              "'\\nCODE: do the same for insertion sort, merge sort, heap sort, and counting sort.\\n'"
            ]
          },
          "execution_count": 34,
          "metadata": {},
          "output_type": "execute_result"
        }
      ],
      "source": [
        "\"\"\"\n",
        "CODE: do the same for insertion sort, merge sort, heap sort, and counting sort.\n",
        "\"\"\""
      ]
    },
    {
      "cell_type": "code",
      "execution_count": 30,
      "metadata": {
        "colab": {
          "base_uri": "https://localhost:8080/"
        },
        "id": "VKStSUINAFdb",
        "outputId": "41eeddef-4a12-42e4-85b5-446e0ef0d67f"
      },
      "outputs": [
        {
          "name": "stdout",
          "output_type": "stream",
          "text": [
            "Time taken by built-in sort: 0.707683801651001 seconds\n"
          ]
        }
      ],
      "source": [
        "# Compare with built-in sort\n",
        "arr_copy = np.copy(arr)\n",
        "start = time.time()\n",
        "sorted_arr = sorted(arr_copy)  # Python's built-in sort\n",
        "end = time.time()\n",
        "print(\"Time taken by built-in sort:\", end - start, \"seconds\")\n"
      ]
    },
    {
      "cell_type": "code",
      "execution_count": 31,
      "metadata": {
        "colab": {
          "base_uri": "https://localhost:8080/"
        },
        "id": "uQ3afi3nALYO",
        "outputId": "d87dfc5a-4852-4d64-b3a7-70f7fa8ca201"
      },
      "outputs": [
        {
          "name": "stdout",
          "output_type": "stream",
          "text": [
            "Time taken by NumPy sort: 0.06213545799255371 seconds\n"
          ]
        }
      ],
      "source": [
        "# You can also use NumPy's np.sort(), which is highly optimized:\n",
        "arr_copy = np.copy(arr)\n",
        "start = time.time()\n",
        "np.sort(arr_copy)  # NumPy's optimized sort\n",
        "end = time.time()\n",
        "print(\"Time taken by NumPy sort:\", end - start, \"seconds\")"
      ]
    }
  ],
  "metadata": {
    "colab": {
      "provenance": []
    },
    "kernelspec": {
      "display_name": "Python 3",
      "name": "python3"
    },
    "language_info": {
      "name": "python"
    }
  },
  "nbformat": 4,
  "nbformat_minor": 0
}
